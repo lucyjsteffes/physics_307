{
 "cells": [
  {
   "cell_type": "code",
   "execution_count": 1,
   "metadata": {},
   "outputs": [],
   "source": [
    "import numpy as np\n",
    "import matplotlib.pyplot as plt\n",
    "import csv\n",
    "import pandas as pd\n",
    "from scipy.optimize import curve_fit\n",
    "import math"
   ]
  },
  {
   "cell_type": "code",
   "execution_count": 1,
   "metadata": {},
   "outputs": [
    {
     "ename": "FileNotFoundError",
     "evalue": "[Errno 2] No such file or directory: 'Physics_307_Lab_5.csv'",
     "output_type": "error",
     "traceback": [
      "\u001b[1;31m---------------------------------------------------------------------------\u001b[0m",
      "\u001b[1;31mFileNotFoundError\u001b[0m                         Traceback (most recent call last)",
      "\u001b[1;32m<ipython-input-1-6fd411dd31d2>\u001b[0m in \u001b[0;36m<module>\u001b[1;34m\u001b[0m\n\u001b[0;32m      1\u001b[0m \u001b[0msource\u001b[0m \u001b[1;33m=\u001b[0m \u001b[1;34m'Physics_307_Lab_5.csv'\u001b[0m\u001b[1;33m\u001b[0m\u001b[1;33m\u001b[0m\u001b[0m\n\u001b[0;32m      2\u001b[0m \u001b[1;33m\u001b[0m\u001b[0m\n\u001b[1;32m----> 3\u001b[1;33m \u001b[0mfile\u001b[0m \u001b[1;33m=\u001b[0m \u001b[0mopen\u001b[0m\u001b[1;33m(\u001b[0m\u001b[0msource\u001b[0m\u001b[1;33m)\u001b[0m\u001b[1;33m\u001b[0m\u001b[1;33m\u001b[0m\u001b[0m\n\u001b[0m\u001b[0;32m      4\u001b[0m \u001b[1;31m#print(file)\u001b[0m\u001b[1;33m\u001b[0m\u001b[1;33m\u001b[0m\u001b[1;33m\u001b[0m\u001b[0m\n\u001b[0;32m      5\u001b[0m \u001b[1;33m\u001b[0m\u001b[0m\n",
      "\u001b[1;31mFileNotFoundError\u001b[0m: [Errno 2] No such file or directory: 'Physics_307_Lab_5.csv'"
     ]
    }
   ],
   "source": [
    "source = 'Physics_307_Lab_5.csv'\n",
    "\n",
    "file = open(source)\n",
    "#print(file)\n",
    "\n",
    "csvreader = csv.reader(file)\n",
    "#print(csvreader)\n",
    "\n",
    "data = pd.read_csv(source)\n",
    "time_float = [float(x) for x in data['Time']]\n",
    "pos1_float = [float(x) for x in data['Position 1']]\n",
    "disp1_float = [float(x) for x in data['Total Disp 1']]\n",
    "pos2_float = [float(x) for x in data['Position 2']]\n",
    "disp2_float = [float(x) for x in data['Total Disp 2']]\n",
    "angle1_float = [float(x) for x in data['Angle 1']]\n",
    "angle2_float = [float(x) for x in data['Angle 2']]\n",
    "\n",
    "time = np.arange(np.min(time_float), np.max(time_float)+15, 15)\n",
    "#print(time)\n",
    "\n",
    "def fitting_function(x, a, b, omega, phi, theta):\n",
    "    return a*np.exp(-b*x)*np.cos(omega*x + phi) + theta\n",
    "popt, pcov = curve_fit(fitting_function, time_float, pos1_float, p0 = [7.5, 0.005, 0.01, 1, 0.01])\n",
    "print(popt)\n",
    "perr = np.sqrt(np.diag(pcov))\n",
    "print(perr)\n",
    "\n",
    "#print(fitting_function(time, *popt))\n",
    "\n",
    "print(np.sqrt(popt[2]**2 + popt[1]**2))\n",
    "omega_0 = np.sqrt(popt[2]**2 + popt[1]**2)\n",
    "I = 0.000097131\n",
    "d = 0.047\n",
    "M = 1.50185\n",
    "m = 0.019426\n",
    "K = (omega_0**2)*I\n",
    "print('G = ', K*0.0167*(d**2)/(2*M*m*0.1), 'm^3 kg^{-1} s^{-2}')\n",
    "\n",
    "plt.plot(time_float, pos1_float, label = 'Displacement Data')\n",
    "plt.plot(time_float, fitting_function(time, *popt), label = 'Curve Fit')\n",
    "plt.hlines(popt[4], 0, 1500)\n",
    "#print(popt[4])\n",
    "\n",
    "#plt.plot(time_float, disp2_float)\n",
    "#plt.plot(x0, gauss_function(x0, x, y, p0 = (1,0,5)), label = 'Gaussian Fit for the Photoionization Peak')\n",
    "\n",
    "plt.xticks(fontsize = 14)\n",
    "plt.yticks(fontsize = 14)\n",
    "plt.xlabel('Time (s)', fontsize = 16)\n",
    "plt.ylabel('Angle (rad)', fontsize = 16)\n",
    "\n",
    "plt.grid()\n",
    "plt.legend()\n",
    "\n",
    "#plt.savefig('disp_fit2.png', bbox_inches='tight')"
   ]
  }
 ],
 "metadata": {
  "kernelspec": {
   "display_name": "Python 3",
   "language": "python",
   "name": "python3"
  },
  "language_info": {
   "codemirror_mode": {
    "name": "ipython",
    "version": 3
   },
   "file_extension": ".py",
   "mimetype": "text/x-python",
   "name": "python",
   "nbconvert_exporter": "python",
   "pygments_lexer": "ipython3",
   "version": "3.8.3"
  }
 },
 "nbformat": 4,
 "nbformat_minor": 4
}
